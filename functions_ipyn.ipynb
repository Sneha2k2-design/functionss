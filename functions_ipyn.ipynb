{
  "nbformat": 4,
  "nbformat_minor": 0,
  "metadata": {
    "colab": {
      "provenance": []
    },
    "kernelspec": {
      "name": "python3",
      "display_name": "Python 3"
    },
    "language_info": {
      "name": "python"
    }
  },
  "cells": [
    {
      "cell_type": "code",
      "execution_count": null,
      "metadata": {
        "id": "rRbfbGeq3mgN"
      },
      "outputs": [],
      "source": []
    },
    {
      "cell_type": "markdown",
      "source": [
        "1. What is the difference between a function and a method in Python?with examples\n"
      ],
      "metadata": {
        "id": "LmKcidJ-3rna"
      }
    },
    {
      "cell_type": "code",
      "source": [
        "##Functions\n",
        "#Definition: A function is a block of code that is defined outside of any class.\n",
        "#Call: Functions are called by their name, and they can be called independently.\n",
        "#Parameters: Functions can take parameters and return values.\n",
        "\n",
        "\n",
        "\n",
        "# Defining a function\n",
        "def greet(name):\n",
        "    return f\"Hello, {name}!\"\n",
        "\n",
        "# Calling the function\n",
        "print(greet(\"Alice\"))  # Output: Hello, Alice!\n",
        "\n",
        "#Methods\n",
        "#Definition: A method is a function that is defined within a class and is associated with an object.\n",
        "#Call: Methods are called on an object, and they can access and modify the object’s attributes.\n",
        "#Parameters: Methods must have self as their first parameter, which refers to the instance of the class.\n",
        "\n",
        "\n",
        "class Greeter:\n",
        "    def __init__(self, name):\n",
        "        self.name = name\n",
        "\n",
        "    def greet(self):\n",
        "        return f\"Hello, {self.name}!\"\n",
        "\n",
        "# Creating an instance of the class\n",
        "greeter = Greeter(\"Bob\")\n",
        "\n",
        "# Calling the method\n",
        "print(greeter.greet())\n",
        "\n",
        "\n"
      ],
      "metadata": {
        "colab": {
          "base_uri": "https://localhost:8080/"
        },
        "id": "A9x220GM3wiw",
        "outputId": "dc6566bb-3db9-4186-df96-18bb774bc051"
      },
      "execution_count": null,
      "outputs": [
        {
          "output_type": "stream",
          "name": "stdout",
          "text": [
            "Hello, Alice!\n",
            "Hello, Bob!\n"
          ]
        }
      ]
    },
    {
      "cell_type": "markdown",
      "source": [
        "2. Explain the concept of function arguments and parameters in Python."
      ],
      "metadata": {
        "id": "-zDuA8Nj4hYA"
      }
    },
    {
      "cell_type": "code",
      "source": [
        "##Parameters\n",
        "#Parameters are the variables listed inside the parentheses in the function definition. They act as placeholders for the values that will be passed to the function. For example:\n",
        "\n",
        "\n",
        "\n",
        "def greet(name):\n",
        "    print(f\"Hello, {name}!\")\n",
        "\n",
        "\n",
        "#Arguments\n",
        "#Arguments are the actual values passed to the function when it is called. For example:\n",
        "\n",
        "\n",
        "\n",
        "greet(\"Alice\")\n",
        "\n",
        "\n",
        "#Types of Arguments\n",
        "#Positional Arguments: These are the most common type of arguments. They must be passed in the correct order.\n",
        "\n",
        "\n",
        "def add(a, b):\n",
        "    return a + b\n",
        "\n",
        "print(add(2, 3))  # Output: 5\n",
        "\n",
        "#Keyword Arguments: These arguments are passed with the parameter name, allowing them to be in any order.\n",
        "\n",
        "\n",
        "def display_info(first_name, last_name):\n",
        "    print(f\"First Name: {first_name}\")\n",
        "    print(f\"Last Name: {last_name}\")\n",
        "\n",
        "display_info(last_name=\"Doe\", first_name=\"John\")\n",
        "\n",
        "#Default Arguments: These arguments have default values if no value is provided.\n",
        "\n",
        "\n",
        "def greet(name=\"Guest\"):\n",
        "    print(f\"Hello, {name}!\")\n",
        "\n",
        "greet()  # Output: Hello, Guest!\n",
        "greet(\"Alice\")  # Output: Hello, Alice!\n",
        "\n",
        "#Variable-length Arguments: These allow passing an arbitrary number of arguments. They are denoted by *args for positional arguments and **kwargs for keyword arguments.\n",
        "\n",
        "def sum_all(*numbers):\n",
        "    return sum(numbers)\n",
        "\n",
        "print(sum_all(1, 2, 3))  # Output: 6\n",
        "\n",
        "def print_info(**info):\n",
        "    for key, value in info.items():\n",
        "        print(f\"{key}: {value}\")\n",
        "\n",
        "print_info(name=\"Alice\", age=30)\n",
        "\n"
      ],
      "metadata": {
        "id": "BMjutGZg4bHY",
        "colab": {
          "base_uri": "https://localhost:8080/"
        },
        "outputId": "f941b60e-b408-4e0a-fa9e-5498f58b348f"
      },
      "execution_count": null,
      "outputs": [
        {
          "output_type": "stream",
          "name": "stdout",
          "text": [
            "Hello, Alice!\n",
            "5\n",
            "First Name: John\n",
            "Last Name: Doe\n",
            "Hello, Guest!\n",
            "Hello, Alice!\n",
            "6\n",
            "name: Alice\n",
            "age: 30\n"
          ]
        }
      ]
    },
    {
      "cell_type": "code",
      "source": [],
      "metadata": {
        "id": "xCnpTfqjoA-A"
      },
      "execution_count": null,
      "outputs": []
    },
    {
      "cell_type": "markdown",
      "source": [
        "What are the different ways to define and call a function in Python?\n",
        "\n"
      ],
      "metadata": {
        "id": "yQMkUA_ToFfb"
      }
    },
    {
      "cell_type": "code",
      "source": [
        "#Standard Function Definition\n",
        "#The most common way to define a function is using the def keyword.\n",
        "\n",
        "\n",
        "def greet(name):\n",
        "    print(f\"Hello, {name}!\")\n",
        "\n",
        "#Lambda Functions\n",
        "#These are small anonymous functions defined using the lambda keyword. They are typically used for short, simple operations.\n",
        "\n",
        "\n",
        "add = lambda x, y: x + y\n",
        "print(add(2, 3))  # Output: 5\n",
        "\n",
        "#Nested Functions\n",
        "#Functions can be defined within other functions, allowing for encapsulation and scope management.\n",
        "\n",
        "\n",
        "def outer_function(text):\n",
        "    def inner_function():\n",
        "        print(text)\n",
        "    inner_function()\n",
        "\n",
        "outer_function(\"Hello from the inner function!\")\n",
        "\n",
        "#Functions with Default Arguments\n",
        "#Functions can have default values for parameters, which are used if no argument is provided.\n",
        "\n",
        "\n",
        "def greet(name=\"Guest\"):\n",
        "    print(f\"Hello, {name}!\")\n",
        "\n",
        "greet()  # Output: Hello, Guest!\n",
        "greet(\"Alice\")  # Output: Hello, Alice!\n",
        "\n",
        "#Variable-length Arguments\n",
        "#Functions can accept an arbitrary number of positional (*args) or keyword (**kwargs) arguments.\n",
        "def sum_all(*numbers):\n",
        "    return sum(numbers)\n",
        "\n",
        "print(sum_all(1, 2, 3))  # Output: 6\n",
        "\n",
        "def print_info(**info):\n",
        "    for key, value in info.items():\n",
        "        print(f\"{key}: {value}\")\n",
        "\n",
        "print_info(name=\"Alice\", age=30)\n",
        "#Calling Functions\n",
        "#Direct Call\n",
        "#The simplest way to call a function is by using its name followed by parentheses.\n",
        "\n",
        "\n",
        "def greet(name):\n",
        "    print(f\"Hello, {name}!\")\n",
        "\n",
        "greet(\"Alice\")  # Output: Hello, Alice!\n",
        "\n",
        "#Using Positional Arguments\n",
        "#Arguments are passed in the order they are defined.\n",
        "\n",
        "\n",
        "def add(a, b):\n",
        "    return a + b\n",
        "\n",
        "print(add(2, 3))  # Output: 5\n",
        "\n",
        "#Using Keyword Arguments\n",
        "#Arguments are passed using the parameter names, allowing them to be in any order.\n",
        "\n",
        "\n",
        "def display_info(first_name, last_name):\n",
        "    print(f\"First Name: {first_name}\")\n",
        "    print(f\"Last Name: {last_name}\")\n",
        "\n",
        "display_info(last_name=\"Doe\", first_name=\"John\")\n",
        "\n",
        "#Calling Functions with Default Arguments\n",
        "#If no argument is provided, the default value is used.\n",
        "\n",
        "\n",
        "def greet(name=\"Guest\"):\n",
        "    print(f\"Hello, {name}!\")\n",
        "\n",
        "greet()  # Output: Hello, Guest!\n",
        "greet(\"Alice\")  # Output: Hello, Alice!\n",
        "\n",
        "#Calling Functions with Variable-length Arguments\n",
        "#You can pass a varying number of arguments.\n",
        "\n",
        "\n",
        "def sum_all(*numbers):\n",
        "    return sum(numbers)\n",
        "\n",
        "print(sum_all(1, 2, 3))  # Output: 6\n",
        "\n",
        "def print_info(**info):\n",
        "    for key, value in info.items():\n",
        "        print(f\"{key}: {value}\")\n",
        "\n",
        "print_info(name=\"Alice\", age=30)\n",
        "\n",
        "#Calling Functions from Other Functions\n",
        "##Functions can call other functions, enabling complex operations.\n",
        "\n",
        "\n",
        "def greet(name):\n",
        "    return f\"Hello, {name}!\"\n",
        "\n",
        "def welcome(name):\n",
        "    greeting = greet(name)\n",
        "    print(greeting)\n",
        "\n",
        "welcome(\"Alice\")  # Output: Hello, Alice!\n",
        "\n"
      ],
      "metadata": {
        "colab": {
          "base_uri": "https://localhost:8080/"
        },
        "id": "pssJDaw9oJ2-",
        "outputId": "66ab23dd-e0bd-4818-f632-ba24d06660be"
      },
      "execution_count": null,
      "outputs": [
        {
          "output_type": "stream",
          "name": "stdout",
          "text": [
            "5\n",
            "Hello from the inner function!\n",
            "Hello, Guest!\n",
            "Hello, Alice!\n",
            "6\n",
            "name: Alice\n",
            "age: 30\n",
            "Hello, Alice!\n",
            "5\n",
            "First Name: John\n",
            "Last Name: Doe\n",
            "Hello, Guest!\n",
            "Hello, Alice!\n",
            "6\n",
            "name: Alice\n",
            "age: 30\n",
            "Hello, Alice!\n"
          ]
        }
      ]
    },
    {
      "cell_type": "code",
      "source": [],
      "metadata": {
        "id": "wUPV_Yo8prlD"
      },
      "execution_count": null,
      "outputs": []
    },
    {
      "cell_type": "markdown",
      "source": [
        "4. What is the purpose of the `return` statement in a Python function?"
      ],
      "metadata": {
        "id": "z7DX_cIXpvYz"
      }
    },
    {
      "cell_type": "code",
      "source": [
        "#Ends Function Execution: When a return statement is encountered, the function terminates immediately, and control is passed back to the caller.\n",
        "\n",
        "\n",
        "def greet(name):\n",
        "    return f\"Hello, {name}!\"\n",
        "    print(\"This will not be printed\")\n",
        "\n",
        "print(greet(\"Alice\"))  # Output: Hello, Alice!\n",
        "\n",
        "#Returns a Value: The return statement can send a value back to the caller. This value can be of any data type, such as integers, strings, lists, or even other functions.\n",
        "\n",
        "\n",
        "def add(a, b):\n",
        "    return a + b\n",
        "\n",
        "result = add(2, 3)\n",
        "print(result)  # Output: 5\n",
        "\n",
        "#Multiple Return Statements: A function can have multiple return statements, typically used within conditional statements to return different values based on different conditions.\n",
        "\n",
        "\n",
        "def check_number(num):\n",
        "    if num > 0:\n",
        "        return \"Positive\"\n",
        "    elif num < 0:\n",
        "        return \"Negative\"\n",
        "    else:\n",
        "        return \"Zero\"\n",
        "\n",
        "print(check_number(10))  # Output: Positive\n",
        "\n",
        "#Returning Multiple Values: Python functions can return multiple values as a tuple, which can be unpacked by the caller.\n",
        "\n",
        "\n",
        "def get_coordinates():\n",
        "    return (10, 20)\n",
        "\n",
        "x, y = get_coordinates()\n",
        "print(x, y)  # Output: 10 20\n",
        "\n",
        "#Returning None: If no value is specified after the return keyword, the function returns None by default.\n",
        "\n",
        "\n",
        "def greet(name):\n",
        "    print(f\"Hello, {name}!\")\n",
        "    return\n",
        "\n",
        "result = greet(\"Alice\")\n",
        "print(result)  # Output: Hello, Alice! followed by None\n",
        "\n"
      ],
      "metadata": {
        "colab": {
          "base_uri": "https://localhost:8080/"
        },
        "id": "LiwykGWgpwYL",
        "outputId": "3b73b148-3e89-4c58-969a-fb1bb95f4aae"
      },
      "execution_count": null,
      "outputs": [
        {
          "output_type": "stream",
          "name": "stdout",
          "text": [
            "Hello, Alice!\n",
            "5\n",
            "Positive\n",
            "10 20\n",
            "Hello, Alice!\n",
            "None\n"
          ]
        }
      ]
    },
    {
      "cell_type": "code",
      "source": [],
      "metadata": {
        "id": "NBS-YDBoqku9"
      },
      "execution_count": null,
      "outputs": []
    },
    {
      "cell_type": "markdown",
      "source": [
        "5. What are iterators in Python and how do they differ from iterables?"
      ],
      "metadata": {
        "id": "thKkGC2EqrYY"
      }
    },
    {
      "cell_type": "code",
      "source": [
        "#Iterables\n",
        "#An iterable is any Python object capable of returning its members one at a time, allowing it to be looped over in a for loop. Common examples include lists, tuples, strings, and dictionaries. Technically, an object is iterable if it implements the __iter__() method, which returns an iterator.\n",
        "\n",
        "\n",
        "\n",
        "# Examples of iterables\n",
        "my_list = [1, 2, 3]\n",
        "my_string = \"hello\"\n",
        "\n",
        "for item in my_list:\n",
        "    print(item)\n",
        "\n",
        "for char in my_string:\n",
        "    print(char)\n",
        "\n",
        "#Iterators\n",
        "#An iterator is an object that represents a stream of data. It returns the data one element at a time when you call the __next__() method. Iterators are created from iterables using the iter() function. An iterator keeps track of its position during iteration.\n",
        "\n",
        "\n",
        "\n",
        "# Creating an iterator from an iterable\n",
        "my_list = [1, 2, 3]\n",
        "my_iterator = iter(my_list)\n",
        "\n",
        "print(next(my_iterator))  # Output: 1\n",
        "print(next(my_iterator))  # Output: 2\n",
        "print(next(my_iterator))  # Output: 3\n",
        "# Calling next() again will raise StopIteration\n",
        "\n",
        "#Key Differences\n",
        "#Definition:\n",
        "#Iterable: An object that can return an iterator.\n",
        "#Iterator: An object that produces the next value in a sequence when you call next().\n",
        "#Methods:\n",
        "#Iterable: Must implement __iter__() method.\n",
        "#Iterator: Must implement both __iter__() and __next__() methods.\n",
        "#Usage:\n",
        "#Iterable: Used to create an iterator.\n",
        "#Iterator: Used to fetch elements one at a time from an iterable.\n",
        "#State:\n",
        "#Iterable: Does not maintain any state.\n",
        "#Iterator: Maintains state, keeping track of where it is during iteration.\n",
        "\n",
        "\n",
        "\n",
        "# Iterable\n",
        "my_list = [1, 2, 3]\n",
        "\n",
        "# Creating an iterator from the iterable\n",
        "my_iterator = iter(my_list)\n",
        "\n",
        "# Using the iterator to get elements\n",
        "print(next(my_iterator))  # Output: 1\n",
        "print(next(my_iterator))  # Output: 2\n",
        "print(next(my_iterator))  # Output: 3\n"
      ],
      "metadata": {
        "colab": {
          "base_uri": "https://localhost:8080/"
        },
        "id": "UdLBjM0QqsAG",
        "outputId": "ea4e8b35-dae2-48af-9d05-9a6249f1afe7"
      },
      "execution_count": null,
      "outputs": [
        {
          "output_type": "stream",
          "name": "stdout",
          "text": [
            "1\n",
            "2\n",
            "3\n",
            "h\n",
            "e\n",
            "l\n",
            "l\n",
            "o\n",
            "1\n",
            "2\n",
            "3\n",
            "1\n",
            "2\n",
            "3\n"
          ]
        }
      ]
    },
    {
      "cell_type": "markdown",
      "source": [
        "6. Explain the concept of generators in Python and how they are defined."
      ],
      "metadata": {
        "id": "nTPFV6m7raLq"
      }
    },
    {
      "cell_type": "code",
      "source": [
        "#Generators are defined using the def keyword, just like regular functions, but instead of using return to return a value, they use the yield keyword. When a generator function is called, it returns a generator object without executing the function’s body immediately. The function’s code runs only when the generator’s __next__() method is called.\n",
        "\n",
        "\n",
        "\n",
        "def simple_generator():\n",
        "    yield 1\n",
        "    yield 2\n",
        "    yield 3\n",
        "\n",
        "# Using the generator\n",
        "gen = simple_generator()\n",
        "print(next(gen))  # Output: 1\n",
        "print(next(gen))  # Output: 2\n",
        "print(next(gen))  # Output: 3\n",
        "\n",
        "\"\"\"How Generators Work\n",
        "Lazy Evaluation: Generators compute values on the fly and yield them one at a time, which is useful for large datasets or streams of data.\n",
        "State Retention: Between each yield, the generator function retains its state, allowing it to resume where it left off.\n",
        "Generator Expressions\n",
        "Similar to list comprehensions, Python also supports generator expressions, which provide a concise way to create generators.\"\"\"\n",
        "\n",
        "\n",
        "\n",
        "gen_exp = (x * x for x in range(5))\n",
        "\n",
        "for value in gen_exp:\n",
        "    print(value)\n",
        "\n",
        "\n",
        "\"\"\"Advantages of Generators\n",
        "Memory Efficiency: Generators are more memory-efficient than lists because they generate items on the fly.\n",
        "Improved Performance: They can be faster for large datasets since they don’t require the entire dataset to be loaded into memory.\n",
        "Simplified Code: Generators can simplify code that requires iteration over large datasets or streams of data.\n",
        "Practical Use Cases\n",
        "Reading Large Files: Generators can be used to read large files line by line without loading the entire file into memory.\n",
        "Infinite Sequences: They can generate infinite sequences, such as Fibonacci numbers, without running out of memory.\"\"\"\n",
        "\n",
        "\n",
        "def fibonacci(limit):\n",
        "    a, b = 0, 1\n",
        "    while a < limit:\n",
        "        yield a\n",
        "        a, b = b, a + b\n",
        "\n",
        "# Using the Fibonacci generator\n",
        "for num in fibonacci(10):\n",
        "    print(num)\n",
        "\n"
      ],
      "metadata": {
        "colab": {
          "base_uri": "https://localhost:8080/"
        },
        "id": "8BT1YlfIrSn5",
        "outputId": "6888221c-0c16-4ed5-ed86-0852406ff99f"
      },
      "execution_count": null,
      "outputs": [
        {
          "output_type": "stream",
          "name": "stdout",
          "text": [
            "1\n",
            "2\n",
            "3\n",
            "0\n",
            "1\n",
            "4\n",
            "9\n",
            "16\n",
            "0\n",
            "1\n",
            "1\n",
            "2\n",
            "3\n",
            "5\n",
            "8\n"
          ]
        }
      ]
    },
    {
      "cell_type": "code",
      "source": [],
      "metadata": {
        "id": "_bcSFoObsJkD"
      },
      "execution_count": null,
      "outputs": []
    },
    {
      "cell_type": "markdown",
      "source": [
        "7. What are the advantages of using generators over regular functions?"
      ],
      "metadata": {
        "id": "xkJdoyQfsTDm"
      }
    },
    {
      "cell_type": "code",
      "source": [
        "#1. Memory Efficiency\n",
        "#Generators produce items one at a time and only when required, which means they don’t need to store the entire dataset in memory. This is particularly useful for large datasets or infinite sequences.\n",
        "\n",
        "\n",
        "\n",
        "def large_range():\n",
        "    for i in range(1000000):\n",
        "        yield i\n",
        "\n",
        "# This generator does not consume much memory\n",
        "gen = large_range()\n",
        "\n",
        "#2. Improved Performance\n",
        "#Since generators yield items one at a time, they can start producing results immediately and continue to do so as needed, rather than waiting for the entire dataset to be generated. This can lead to performance improvements, especially for large computations.\n",
        "\n",
        "#3. Simplified Code\n",
        "#Generators can simplify code by abstracting away the iteration logic. This makes the code more readable and maintainable.\n",
        "\n",
        "\n",
        "\n",
        "def read_large_file(file_path):\n",
        "    with open(file_path) as file:\n",
        "        for line in file:\n",
        "            yield line.strip()\n",
        "\n",
        "# Using the generator to process a large file line by line\n",
        "for line in read_large_file(\"large_file.txt\"):\n",
        "    print(line)\n",
        "\n",
        "#4. Infinite Sequences\n",
        "#Generators can be used to create infinite sequences, such as the Fibonacci sequence, without running out of memory.\n",
        "\n",
        "\n",
        "\n",
        "def infinite_sequence():\n",
        "    num = 0\n",
        "    while True:\n",
        "        yield num\n",
        "        num += 1\n",
        "\n",
        "# Using the generator to get an infinite sequence\n",
        "gen = infinite_sequence()\n",
        "for _ in range(10):\n",
        "    print(next(gen))\n",
        "\n",
        "#5. Lazy Evaluation\n",
        "#Generators use lazy evaluation, meaning they generate values on the fly and only when needed. This can save both time and resources.\n",
        "\n",
        "#6. Pipeline Processing\n",
        "#Generators can be chained together to form pipelines, allowing for complex data processing workflows to be broken down into simple, reusable components.\n",
        "\n",
        "\n",
        "\n",
        "def pipeline_step1(data):\n",
        "    for item in data:\n",
        "        yield item * 2\n",
        "\n",
        "def pipeline_step2(data):\n",
        "    for item in data:\n",
        "        yield item + 1\n",
        "\n",
        "data = range(5)\n",
        "pipeline = pipeline_step2(pipeline_step1(data))\n",
        "\n",
        "for item in pipeline:\n",
        "    print(item)\n",
        "\n",
        "#7. Enhanced Readability\n",
        "#Generators can make the code more readable by separating the logic for generating data from the logic for processing it.\n",
        "\n",
        "\n",
        "\n",
        "\n"
      ],
      "metadata": {
        "colab": {
          "base_uri": "https://localhost:8080/",
          "height": 332
        },
        "id": "LCRCzyNftBn5",
        "outputId": "765735fa-31d3-4b31-d8c6-f70b86725cb7"
      },
      "execution_count": null,
      "outputs": [
        {
          "output_type": "error",
          "ename": "FileNotFoundError",
          "evalue": "[Errno 2] No such file or directory: 'large_file.txt'",
          "traceback": [
            "\u001b[0;31m---------------------------------------------------------------------------\u001b[0m",
            "\u001b[0;31mFileNotFoundError\u001b[0m                         Traceback (most recent call last)",
            "\u001b[0;32m<ipython-input-7-866b69184294>\u001b[0m in \u001b[0;36m<cell line: 27>\u001b[0;34m()\u001b[0m\n\u001b[1;32m     25\u001b[0m \u001b[0;34m\u001b[0m\u001b[0m\n\u001b[1;32m     26\u001b[0m \u001b[0;31m# Using the generator to process a large file line by line\u001b[0m\u001b[0;34m\u001b[0m\u001b[0;34m\u001b[0m\u001b[0m\n\u001b[0;32m---> 27\u001b[0;31m \u001b[0;32mfor\u001b[0m \u001b[0mline\u001b[0m \u001b[0;32min\u001b[0m \u001b[0mread_large_file\u001b[0m\u001b[0;34m(\u001b[0m\u001b[0;34m\"large_file.txt\"\u001b[0m\u001b[0;34m)\u001b[0m\u001b[0;34m:\u001b[0m\u001b[0;34m\u001b[0m\u001b[0;34m\u001b[0m\u001b[0m\n\u001b[0m\u001b[1;32m     28\u001b[0m     \u001b[0mprint\u001b[0m\u001b[0;34m(\u001b[0m\u001b[0mline\u001b[0m\u001b[0;34m)\u001b[0m\u001b[0;34m\u001b[0m\u001b[0;34m\u001b[0m\u001b[0m\n\u001b[1;32m     29\u001b[0m \u001b[0;34m\u001b[0m\u001b[0m\n",
            "\u001b[0;32m<ipython-input-7-866b69184294>\u001b[0m in \u001b[0;36mread_large_file\u001b[0;34m(file_path)\u001b[0m\n\u001b[1;32m     20\u001b[0m \u001b[0;34m\u001b[0m\u001b[0m\n\u001b[1;32m     21\u001b[0m \u001b[0;32mdef\u001b[0m \u001b[0mread_large_file\u001b[0m\u001b[0;34m(\u001b[0m\u001b[0mfile_path\u001b[0m\u001b[0;34m)\u001b[0m\u001b[0;34m:\u001b[0m\u001b[0;34m\u001b[0m\u001b[0;34m\u001b[0m\u001b[0m\n\u001b[0;32m---> 22\u001b[0;31m     \u001b[0;32mwith\u001b[0m \u001b[0mopen\u001b[0m\u001b[0;34m(\u001b[0m\u001b[0mfile_path\u001b[0m\u001b[0;34m)\u001b[0m \u001b[0;32mas\u001b[0m \u001b[0mfile\u001b[0m\u001b[0;34m:\u001b[0m\u001b[0;34m\u001b[0m\u001b[0;34m\u001b[0m\u001b[0m\n\u001b[0m\u001b[1;32m     23\u001b[0m         \u001b[0;32mfor\u001b[0m \u001b[0mline\u001b[0m \u001b[0;32min\u001b[0m \u001b[0mfile\u001b[0m\u001b[0;34m:\u001b[0m\u001b[0;34m\u001b[0m\u001b[0;34m\u001b[0m\u001b[0m\n\u001b[1;32m     24\u001b[0m             \u001b[0;32myield\u001b[0m \u001b[0mline\u001b[0m\u001b[0;34m.\u001b[0m\u001b[0mstrip\u001b[0m\u001b[0;34m(\u001b[0m\u001b[0;34m)\u001b[0m\u001b[0;34m\u001b[0m\u001b[0;34m\u001b[0m\u001b[0m\n",
            "\u001b[0;31mFileNotFoundError\u001b[0m: [Errno 2] No such file or directory: 'large_file.txt'"
          ]
        }
      ]
    },
    {
      "cell_type": "code",
      "source": [],
      "metadata": {
        "id": "SU484JqEuTU9"
      },
      "execution_count": null,
      "outputs": []
    },
    {
      "cell_type": "markdown",
      "source": [
        "8. What is a lambda function in Python and when is it typically used?"
      ],
      "metadata": {
        "id": "oWnF3CWSuhjy"
      }
    },
    {
      "cell_type": "code",
      "source": [
        "add = lambda x, y: x + y\n",
        "print(add(2, 3))  # Output: 5\n",
        "\n",
        "#Typical Uses of Lambda Functions\n",
        "#Short, Throwaway Functions: Lambda functions are often used for small, one-off operations where defining a full function would be overkill.\n",
        "\n",
        "# Sorting a list of tuples by the second element\n",
        "pairs = [(1, 'one'), (2, 'two'), (3, 'three')]\n",
        "pairs.sort(key=lambda pair: pair[1])\n",
        "print(pairs)  # Output: [(1, 'one'), (3, 'three'), (2, 'two')]\n",
        "\n",
        "#Functional Programming: Lambda functions are frequently used with functions like map(), filter(), and reduce().\n",
        "\n",
        "\n",
        "# Using lambda with map to square each number in a list\n",
        "numbers = [1, 2, 3, 4]\n",
        "squared = list(map(lambda x: x ** 2, numbers))\n",
        "print(squared)  # Output: [1, 4, 9, 16]\n",
        "\n",
        "#Inline Functions: They are useful for defining small functions inline, especially when passing them as arguments to higher-order functions.\n",
        "\n",
        "# Using lambda with filter to get even numbers from a list\n",
        "numbers = [1, 2, 3, 4, 5, 6]\n",
        "evens = list(filter(lambda x: x % 2 == 0, numbers))\n",
        "print(evens)  # Output: [2, 4, 6]\n",
        "\n",
        "#Callbacks: Lambda functions are often used as callbacks for event handling or asynchronous programming.\n",
        "\n",
        "\n",
        "# Using lambda as a callback in a button click event (example in a GUI framework)\n",
        "#button = Button(text=\"Click me\", command=lambda: print(\"Button clicked!\"))\n",
        "\n"
      ],
      "metadata": {
        "colab": {
          "base_uri": "https://localhost:8080/"
        },
        "id": "ClgOvffxuiSI",
        "outputId": "d4a71203-497d-493b-c50e-a14d13427f3a"
      },
      "execution_count": 5,
      "outputs": [
        {
          "output_type": "stream",
          "name": "stdout",
          "text": [
            "5\n",
            "[(1, 'one'), (3, 'three'), (2, 'two')]\n",
            "[1, 4, 9, 16]\n",
            "[2, 4, 6]\n"
          ]
        }
      ]
    },
    {
      "cell_type": "markdown",
      "source": [
        "9. Explain the purpose and usage of the `map()` function in Python."
      ],
      "metadata": {
        "id": "_bU2_SoOOYcH"
      }
    },
    {
      "cell_type": "code",
      "source": [
        "\n",
        "\n",
        "#map(\"function\", \"iterable\", ...)\n",
        "\n",
        "#function: The function to apply to each item.\n",
        "#iterable: One or more iterables whose items will be passed to the function.\n",
        "\n",
        "\n",
        "\n",
        "def add(x):\n",
        "    return x + x\n",
        "\n",
        "numbers = [1, 2, 3, 4]\n",
        "result = map(add, numbers)\n",
        "print(list(result))\n",
        "\n",
        "#Using Lambda Expressions:\n",
        "\n",
        "\n",
        "numbers = [1, 2, 3, 4]\n",
        "result = map(lambda x: x + x, numbers)\n",
        "print(list(result))  #\n",
        "\n",
        "\n",
        "\n",
        "numbers1 = [1, 2, 3]\n",
        "numbers2 = [4, 5, 6]\n",
        "result = map(lambda x, y: x + y, numbers1, numbers2)\n",
        "print(list(result))\n",
        "\n",
        "\n",
        "\n",
        "strings = ['sat', 'bat', 'cat', 'mat']\n",
        "result = map(list, strings)\n",
        "print(list(result))\n",
        "\n",
        "def double_even(num):\n",
        "    return num * 2 if num % 2 == 0 else num\n",
        "\n",
        "numbers = [1, 2, 3, 4, 5]\n",
        "result = map(double_even, numbers)\n",
        "print(list(result))\n"
      ],
      "metadata": {
        "id": "xoILA7DuvDTx",
        "colab": {
          "base_uri": "https://localhost:8080/"
        },
        "outputId": "9162a247-37a5-40d5-d40f-5d01c85ad731"
      },
      "execution_count": 4,
      "outputs": [
        {
          "output_type": "stream",
          "name": "stdout",
          "text": [
            "[2, 4, 6, 8]\n",
            "[2, 4, 6, 8]\n",
            "[5, 7, 9]\n",
            "[['s', 'a', 't'], ['b', 'a', 't'], ['c', 'a', 't'], ['m', 'a', 't']]\n",
            "[1, 4, 3, 8, 5]\n"
          ]
        }
      ]
    },
    {
      "cell_type": "markdown",
      "source": [
        "\n"
      ],
      "metadata": {
        "id": "fs2n5Uc8vhk8"
      }
    },
    {
      "cell_type": "markdown",
      "source": [
        "10. What is the difference between `map()`, `reduce()`, and `filter()` functions in Python?"
      ],
      "metadata": {
        "id": "ra_Kc7Q8QKM-"
      }
    },
    {
      "cell_type": "code",
      "source": [
        "#map()\n",
        "#Purpose: Applies a given function to all items in an iterable (like a list) and returns a map object (an iterator) with the results.\n",
        "#Usage: Useful for transforming data.\n",
        "\n",
        "\n",
        "numbers = [1, 2, 3, 4]\n",
        "result = map(lambda x: x * 2, numbers)\n",
        "print(list(result))\n",
        "\n",
        "#reduce()\n",
        "#Purpose: Applies a given function cumulatively to the items of an iterable, reducing the iterable to a single value. It is part of the functools module.\n",
        "#Usage: Useful for aggregating data.\n",
        "\n",
        "\n",
        "from functools import reduce\n",
        "numbers = [1, 2, 3, 4]\n",
        "result = reduce(lambda x, y: x + y, numbers)\n",
        "print(result)  # Output: 10\n",
        "\n",
        "#filter()\n",
        "#Purpose: Filters items out of an iterable based on a function that returns either True or False. Only items for which the function returns True are included in the result.\n",
        "#Usage: Useful for selecting a subset of data.\n",
        "\n",
        "\n",
        "numbers = [1, 2, 3, 4, 5, 6]\n",
        "result = filter(lambda x: x % 2 == 0, numbers)\n",
        "print(list(result))\n",
        "\n",
        "#Key Differences\n",
        "#Transformation vs. Aggregation vs. Selection:\n",
        "#map(): Transforms each item in an iterable.\n",
        "#reduce(): Aggregates all items into a single value.\n",
        "#filter(): Selects items based on a condition.\n",
        "#Return Type:\n",
        "#map() and filter() return iterators.\n",
        "#reduce() returns a single value.\n",
        "#Module:\n",
        "#map() and filter() are built-in functions.\n",
        "#reduce() is in the functools module123.\n"
      ],
      "metadata": {
        "colab": {
          "base_uri": "https://localhost:8080/"
        },
        "id": "aIR6vc5gQMow",
        "outputId": "8552f959-e2f7-4f0c-b891-8b735ec2f09f"
      },
      "execution_count": 7,
      "outputs": [
        {
          "output_type": "stream",
          "name": "stdout",
          "text": [
            "[2, 4, 6, 8]\n",
            "10\n",
            "[2, 4, 6]\n"
          ]
        }
      ]
    },
    {
      "cell_type": "code",
      "source": [],
      "metadata": {
        "id": "t7YWPS04RjBw"
      },
      "execution_count": null,
      "outputs": []
    },
    {
      "cell_type": "markdown",
      "source": [
        "11. Using pen & Paper write the internal mechanism for sum operation using  reduce function on this given\n",
        "list:[47,11,42,13];"
      ],
      "metadata": {
        "id": "n8tbwcVsRtY6"
      }
    },
    {
      "cell_type": "code",
      "source": [
        "#Step-by-Step Process\n",
        "#Initial Setup:\n",
        "#Import the reduce function from the functools module.\n",
        "##Define the list: [47, 11, 42, 13].\n",
        "#Define a function that will be used by reduce() to sum two numbers.\n",
        "#Define the Sum Function:\n",
        "\n",
        "\n",
        "def add(x, y):\n",
        "    return x + y\n",
        "\n",
        "#Apply reduce():\n",
        "\n",
        "from functools import reduce\n",
        "numbers = [47, 11, 42, 13]\n",
        "result = reduce(add, numbers)\n",
        "\n",
        "#Internal Mechanism\n",
        "#First Iteration:\n",
        "##x = 47, y = 11\n",
        "#add(47, 11) returns 58\n",
        "#Second Iteration:\n",
        "#x = 58 (result from the first iteration), y = 42\n",
        "#add(58, 42) returns 100\n",
        "#Third Iteration:\n",
        "#x = 100 (result from the second iteration), y = 13\n",
        "#add(100, 13) returns 113\n",
        "#Final Result\n",
        "#The reduce() function returns 113, which is the sum of all the elements in the list.\n",
        "\n",
        "#Visualization\n",
        "#Here’s a visual representation of the process:\n",
        "\n",
        "#Initial List: [47, 11, 42, 13]\n",
        "\n",
        "#Step 1: 47 + 11 = 58\n",
        "#Step 2: 58 + 42 = 100\n",
        "#Step 3: 100 + 13 = 113\n",
        "\n",
        "#Final Result: 113\n",
        "\n"
      ],
      "metadata": {
        "id": "sZO7L2y2Rvu8"
      },
      "execution_count": 9,
      "outputs": []
    },
    {
      "cell_type": "code",
      "source": [
        "def sum_of_even_numbers(numbers):\n",
        "    even_sum = 0\n",
        "    for number in numbers:\n",
        "        if number % 2 == 0:\n",
        "            even_sum += number\n",
        "    return even_sum\n",
        "\n",
        "# Example usage:\n",
        "numbers = [47, 11, 42, 13]\n",
        "print(sum_of_even_numbers(numbers))"
      ],
      "metadata": {
        "colab": {
          "base_uri": "https://localhost:8080/"
        },
        "id": "pTMVK48IXvlr",
        "outputId": "e6f8a14b-9848-44d1-b02e-8dc61e90511c"
      },
      "execution_count": 10,
      "outputs": [
        {
          "output_type": "stream",
          "name": "stdout",
          "text": [
            "42\n"
          ]
        }
      ]
    },
    {
      "cell_type": "markdown",
      "source": [
        "2. Create a Python function that accepts a string and returns the reverse of that string."
      ],
      "metadata": {
        "id": "9d0byIsKbers"
      }
    },
    {
      "cell_type": "code",
      "source": [
        "def reverse_string(s):\n",
        "    return s[::-1]\n",
        "\n",
        "# Example usage:\n",
        "input_string = \"Hello, World!\"\n",
        "print(reverse_string(input_string))"
      ],
      "metadata": {
        "colab": {
          "base_uri": "https://localhost:8080/"
        },
        "id": "GZMUsaAubZXk",
        "outputId": "e7a48546-59dd-4219-a909-b260bf4f99fb"
      },
      "execution_count": 11,
      "outputs": [
        {
          "output_type": "stream",
          "name": "stdout",
          "text": [
            "!dlroW ,olleH\n"
          ]
        }
      ]
    },
    {
      "cell_type": "code",
      "source": [],
      "metadata": {
        "id": "zl5SkrV5bpsm"
      },
      "execution_count": null,
      "outputs": []
    },
    {
      "cell_type": "markdown",
      "source": [
        "3. Implement a Python function that takes a list of integers and returns a new list containing the squares of\n",
        "each number."
      ],
      "metadata": {
        "id": "pB7UOLsbbv6X"
      }
    },
    {
      "cell_type": "code",
      "source": [
        "def square_numbers(numbers):\n",
        "    return [number ** 2 for number in numbers]\n",
        "\n",
        "# Example usage:\n",
        "numbers = [1, 2, 3, 4, 5]\n",
        "print(square_numbers(numbers))"
      ],
      "metadata": {
        "colab": {
          "base_uri": "https://localhost:8080/"
        },
        "id": "qIamtBmIbw7C",
        "outputId": "257680bc-2283-4a69-d6c7-e5e069054daf"
      },
      "execution_count": 12,
      "outputs": [
        {
          "output_type": "stream",
          "name": "stdout",
          "text": [
            "[1, 4, 9, 16, 25]\n"
          ]
        }
      ]
    },
    {
      "cell_type": "code",
      "source": [],
      "metadata": {
        "id": "q4gNbjvKb67a"
      },
      "execution_count": null,
      "outputs": []
    },
    {
      "cell_type": "code",
      "source": [],
      "metadata": {
        "id": "AtcJwY8kcEFf"
      },
      "execution_count": null,
      "outputs": []
    },
    {
      "cell_type": "markdown",
      "source": [
        "4. Write a Python function that checks if a given number is prime or not from 1 to 200"
      ],
      "metadata": {
        "id": "FcCnxULwcEfZ"
      }
    },
    {
      "cell_type": "code",
      "source": [
        "\n",
        "\n",
        "def is_prime(n):\n",
        "    if n <= 1:\n",
        "        return False\n",
        "    for i in range(2, int(n**0.5) + 1):\n",
        "        if n % i == 0:\n",
        "            return False\n",
        "    return True\n",
        "\n",
        "# Example usage:\n",
        "for num in range(1, 201):\n",
        "    if is_prime(num):\n",
        "        print(f\"{num} is a prime number\")"
      ],
      "metadata": {
        "colab": {
          "base_uri": "https://localhost:8080/"
        },
        "id": "epLe1Op1cG7V",
        "outputId": "80d863bc-439c-4d46-bd36-444fc4e4cc62"
      },
      "execution_count": 13,
      "outputs": [
        {
          "output_type": "stream",
          "name": "stdout",
          "text": [
            "2 is a prime number\n",
            "3 is a prime number\n",
            "5 is a prime number\n",
            "7 is a prime number\n",
            "11 is a prime number\n",
            "13 is a prime number\n",
            "17 is a prime number\n",
            "19 is a prime number\n",
            "23 is a prime number\n",
            "29 is a prime number\n",
            "31 is a prime number\n",
            "37 is a prime number\n",
            "41 is a prime number\n",
            "43 is a prime number\n",
            "47 is a prime number\n",
            "53 is a prime number\n",
            "59 is a prime number\n",
            "61 is a prime number\n",
            "67 is a prime number\n",
            "71 is a prime number\n",
            "73 is a prime number\n",
            "79 is a prime number\n",
            "83 is a prime number\n",
            "89 is a prime number\n",
            "97 is a prime number\n",
            "101 is a prime number\n",
            "103 is a prime number\n",
            "107 is a prime number\n",
            "109 is a prime number\n",
            "113 is a prime number\n",
            "127 is a prime number\n",
            "131 is a prime number\n",
            "137 is a prime number\n",
            "139 is a prime number\n",
            "149 is a prime number\n",
            "151 is a prime number\n",
            "157 is a prime number\n",
            "163 is a prime number\n",
            "167 is a prime number\n",
            "173 is a prime number\n",
            "179 is a prime number\n",
            "181 is a prime number\n",
            "191 is a prime number\n",
            "193 is a prime number\n",
            "197 is a prime number\n",
            "199 is a prime number\n"
          ]
        }
      ]
    },
    {
      "cell_type": "code",
      "source": [],
      "metadata": {
        "id": "wdhM3Xbdcq_e"
      },
      "execution_count": null,
      "outputs": []
    },
    {
      "cell_type": "markdown",
      "source": [
        "5. Create an iterator class in Python that generates the Fibonacci sequence up to a specified number of\n",
        "terms."
      ],
      "metadata": {
        "id": "jVZJowNycxf6"
      }
    },
    {
      "cell_type": "code",
      "source": [
        "class FibonacciIterator:\n",
        "    def __init__(self, num_terms):\n",
        "        self.num_terms = num_terms\n",
        "        self.current_index = 0\n",
        "        self.a, self.b = 0, 1\n",
        "\n",
        "    def __iter__(self):\n",
        "        return self\n",
        "\n",
        "    def __next__(self):\n",
        "        if self.current_index >= self.num_terms:\n",
        "            raise StopIteration\n",
        "        if self.current_index == 0:\n",
        "            self.current_index += 1\n",
        "            return self.a\n",
        "        elif self.current_index == 1:\n",
        "            self.current_index += 1\n",
        "            return self.b\n",
        "        else:\n",
        "            self.current_index += 1\n",
        "            self.a, self.b = self.b, self.a + self.b\n",
        "            return self.a\n",
        "\n",
        "# Example usage:\n",
        "fib_iterator = FibonacciIterator(10)\n",
        "for num in fib_iterator:\n",
        "    print(num)\n"
      ],
      "metadata": {
        "colab": {
          "base_uri": "https://localhost:8080/"
        },
        "id": "hmjKHTTBcyMo",
        "outputId": "105f8e7d-6d83-48f8-80a1-148de3533d1c"
      },
      "execution_count": 14,
      "outputs": [
        {
          "output_type": "stream",
          "name": "stdout",
          "text": [
            "0\n",
            "1\n",
            "1\n",
            "1\n",
            "2\n",
            "3\n",
            "5\n",
            "8\n",
            "13\n",
            "21\n"
          ]
        }
      ]
    },
    {
      "cell_type": "code",
      "source": [],
      "metadata": {
        "id": "51iSDMLxdHWQ"
      },
      "execution_count": null,
      "outputs": []
    },
    {
      "cell_type": "markdown",
      "source": [
        "6. Write a generator function in Python that yields the powers of 2 up to a given exponent."
      ],
      "metadata": {
        "id": "_jn-kRGAdK-P"
      }
    },
    {
      "cell_type": "code",
      "source": [
        "def powers_of_two(exponent):\n",
        "    for i in range(exponent + 1):\n",
        "        yield 2 ** i\n",
        "\n",
        "# Example usage:\n",
        "for power in powers_of_two(5):\n",
        "    print(power)"
      ],
      "metadata": {
        "colab": {
          "base_uri": "https://localhost:8080/"
        },
        "id": "_rmH1lVVdLfi",
        "outputId": "34728b29-de2b-456c-e354-2f90f026b364"
      },
      "execution_count": 15,
      "outputs": [
        {
          "output_type": "stream",
          "name": "stdout",
          "text": [
            "1\n",
            "2\n",
            "4\n",
            "8\n",
            "16\n",
            "32\n"
          ]
        }
      ]
    },
    {
      "cell_type": "code",
      "source": [],
      "metadata": {
        "id": "eryKdi9ZdTeZ"
      },
      "execution_count": null,
      "outputs": []
    },
    {
      "cell_type": "markdown",
      "source": [
        "7. Implement a generator function that reads a file line by line and yields each line as a string."
      ],
      "metadata": {
        "id": "tTyAzAutdWD3"
      }
    },
    {
      "cell_type": "code",
      "source": [
        "def read_file_line_by_line(file_path):\n",
        "    with open(file_path) as file:\n",
        "        for line in file:\n",
        "            yield line.strip()\n",
        "\n",
        "# Example usage:\n",
        "file_path = 'example.txt'\n",
        "for line in read_file_line_by_line(file_path):\n",
        "    print(line)"
      ],
      "metadata": {
        "colab": {
          "base_uri": "https://localhost:8080/",
          "height": 315
        },
        "id": "HK8mqYzVdhlp",
        "outputId": "ad043e7b-ea04-43c8-c2bc-23af3b4422dc"
      },
      "execution_count": 18,
      "outputs": [
        {
          "output_type": "error",
          "ename": "FileNotFoundError",
          "evalue": "[Errno 2] No such file or directory: 'example.txt'",
          "traceback": [
            "\u001b[0;31m---------------------------------------------------------------------------\u001b[0m",
            "\u001b[0;31mFileNotFoundError\u001b[0m                         Traceback (most recent call last)",
            "\u001b[0;32m<ipython-input-18-bfda8b8352ad>\u001b[0m in \u001b[0;36m<cell line: 8>\u001b[0;34m()\u001b[0m\n\u001b[1;32m      6\u001b[0m \u001b[0;31m# Example usage:\u001b[0m\u001b[0;34m\u001b[0m\u001b[0;34m\u001b[0m\u001b[0m\n\u001b[1;32m      7\u001b[0m \u001b[0mfile_path\u001b[0m \u001b[0;34m=\u001b[0m \u001b[0;34m'example.txt'\u001b[0m\u001b[0;34m\u001b[0m\u001b[0;34m\u001b[0m\u001b[0m\n\u001b[0;32m----> 8\u001b[0;31m \u001b[0;32mfor\u001b[0m \u001b[0mline\u001b[0m \u001b[0;32min\u001b[0m \u001b[0mread_file_line_by_line\u001b[0m\u001b[0;34m(\u001b[0m\u001b[0mfile_path\u001b[0m\u001b[0;34m)\u001b[0m\u001b[0;34m:\u001b[0m\u001b[0;34m\u001b[0m\u001b[0;34m\u001b[0m\u001b[0m\n\u001b[0m\u001b[1;32m      9\u001b[0m     \u001b[0mprint\u001b[0m\u001b[0;34m(\u001b[0m\u001b[0mline\u001b[0m\u001b[0;34m)\u001b[0m\u001b[0;34m\u001b[0m\u001b[0;34m\u001b[0m\u001b[0m\n",
            "\u001b[0;32m<ipython-input-18-bfda8b8352ad>\u001b[0m in \u001b[0;36mread_file_line_by_line\u001b[0;34m(file_path)\u001b[0m\n\u001b[1;32m      1\u001b[0m \u001b[0;32mdef\u001b[0m \u001b[0mread_file_line_by_line\u001b[0m\u001b[0;34m(\u001b[0m\u001b[0mfile_path\u001b[0m\u001b[0;34m)\u001b[0m\u001b[0;34m:\u001b[0m\u001b[0;34m\u001b[0m\u001b[0;34m\u001b[0m\u001b[0m\n\u001b[0;32m----> 2\u001b[0;31m     \u001b[0;32mwith\u001b[0m \u001b[0mopen\u001b[0m\u001b[0;34m(\u001b[0m\u001b[0mfile_path\u001b[0m\u001b[0;34m)\u001b[0m \u001b[0;32mas\u001b[0m \u001b[0mfile\u001b[0m\u001b[0;34m:\u001b[0m\u001b[0;34m\u001b[0m\u001b[0;34m\u001b[0m\u001b[0m\n\u001b[0m\u001b[1;32m      3\u001b[0m         \u001b[0;32mfor\u001b[0m \u001b[0mline\u001b[0m \u001b[0;32min\u001b[0m \u001b[0mfile\u001b[0m\u001b[0;34m:\u001b[0m\u001b[0;34m\u001b[0m\u001b[0;34m\u001b[0m\u001b[0m\n\u001b[1;32m      4\u001b[0m             \u001b[0;32myield\u001b[0m \u001b[0mline\u001b[0m\u001b[0;34m.\u001b[0m\u001b[0mstrip\u001b[0m\u001b[0;34m(\u001b[0m\u001b[0;34m)\u001b[0m\u001b[0;34m\u001b[0m\u001b[0;34m\u001b[0m\u001b[0m\n\u001b[1;32m      5\u001b[0m \u001b[0;34m\u001b[0m\u001b[0m\n",
            "\u001b[0;31mFileNotFoundError\u001b[0m: [Errno 2] No such file or directory: 'example.txt'"
          ]
        }
      ]
    },
    {
      "cell_type": "code",
      "source": [],
      "metadata": {
        "id": "Ui9VmbBmdvtx"
      },
      "execution_count": null,
      "outputs": []
    },
    {
      "cell_type": "code",
      "source": [
        "# Sample list of tuples\n",
        "tuples_list = [('apple', 2), ('banana', 8), ('cherry', 5)]\n",
        "\n",
        "# Sorting the list of tuples by the second element\n",
        "sorted_list = sorted(tuples_list, key=lambda x: x[1])\n",
        "\n",
        "# Printing the sorted list\n",
        "print(sorted_list)"
      ],
      "metadata": {
        "colab": {
          "base_uri": "https://localhost:8080/"
        },
        "id": "Wwk6-_RYd8nV",
        "outputId": "a7400b6b-a2f1-4fd0-e601-83b471db3843"
      },
      "execution_count": 19,
      "outputs": [
        {
          "output_type": "stream",
          "name": "stdout",
          "text": [
            "[('apple', 2), ('cherry', 5), ('banana', 8)]\n"
          ]
        }
      ]
    },
    {
      "cell_type": "code",
      "source": [],
      "metadata": {
        "id": "ig34RZQ3eO9S"
      },
      "execution_count": null,
      "outputs": []
    },
    {
      "cell_type": "code",
      "source": [
        "#9. Write a Python program that uses `map()` to convert a list of temperatures from Celsius to Fahrenheit.9. Write a Python program that uses `map()` to convert a list of temperatures from Celsius to Fahrenheit."
      ],
      "metadata": {
        "id": "JujLSyWqeUtu"
      },
      "execution_count": 21,
      "outputs": []
    },
    {
      "cell_type": "code",
      "source": [
        "# Function to convert Celsius to Fahrenheit\n",
        "def celsius_to_fahrenheit(celsius):\n",
        "    return (celsius * 9/5) + 32\n",
        "\n",
        "# List of temperatures in Celsius\n",
        "celsius_temperatures = [0, 20, 37, 100]\n",
        "\n",
        "# Using map() to apply the conversion function to each element in the list\n",
        "fahrenheit_temperatures = list(map(celsius_to_fahrenheit, celsius_temperatures))\n",
        "\n",
        "# Printing the converted temperatures\n",
        "print(fahrenheit_temperatures)"
      ],
      "metadata": {
        "colab": {
          "base_uri": "https://localhost:8080/"
        },
        "id": "nbIKSbyLeWCW",
        "outputId": "8ce14632-7bfa-4f08-f311-3e55b2a3c0d2"
      },
      "execution_count": 22,
      "outputs": [
        {
          "output_type": "stream",
          "name": "stdout",
          "text": [
            "[32.0, 68.0, 98.6, 212.0]\n"
          ]
        }
      ]
    },
    {
      "cell_type": "code",
      "source": [],
      "metadata": {
        "id": "0Xrc5uu7efxT"
      },
      "execution_count": null,
      "outputs": []
    },
    {
      "cell_type": "markdown",
      "source": [
        "10. Create a Python program that uses `filter()` to remove all the vowels from a given string."
      ],
      "metadata": {
        "id": "yZ5o_Nezej2N"
      }
    },
    {
      "cell_type": "code",
      "source": [
        "# Function to check if a character is a vowel\n",
        "def is_not_vowel(char):\n",
        "    vowels = 'aeiouAEIOU'\n",
        "    return char not in vowels\n",
        "\n",
        "# Given string\n",
        "input_string = \"Hello World\"\n",
        "\n",
        "# Using filter() to remove vowels\n",
        "filtered_string = ''.join(filter(is_not_vowel, input_string))\n",
        "\n",
        "# Printing the result\n",
        "print(filtered_string)"
      ],
      "metadata": {
        "colab": {
          "base_uri": "https://localhost:8080/"
        },
        "id": "gTdsptsJekhG",
        "outputId": "5e49fa14-f325-42b0-8335-9e0832e416e4"
      },
      "execution_count": 23,
      "outputs": [
        {
          "output_type": "stream",
          "name": "stdout",
          "text": [
            "Hll Wrld\n"
          ]
        }
      ]
    },
    {
      "cell_type": "code",
      "source": [],
      "metadata": {
        "id": "LTujiRiseuwn"
      },
      "execution_count": null,
      "outputs": []
    },
    {
      "cell_type": "markdown",
      "source": [
        "11) Imagine an accounting routine used in a book shop. It works on a list with sublists, which look like this:\n",
        "\n",
        "\n",
        "\n",
        "\n",
        "\n",
        "\n",
        "\n",
        "Write a Python program, which returns a list with 2-tuples. Each tuple consists of the order number and the\n",
        "product of the price per item and the quantity. The product should be increased by 10,- € if the value of the\n",
        "order is smaller than 100,00 €.\n",
        "\n",
        "Write a Python program using lambda and map."
      ],
      "metadata": {
        "id": "PLuQH99ye23m"
      }
    },
    {
      "cell_type": "code",
      "source": [
        "orders = [\n",
        "    [\"34587\", \"Learning Python, Mark Lutz\", 4, 40.95],\n",
        "    [\"98762\", \"Programming Python, Mark Lutz\", 5, 56.80],\n",
        "    [\"77226\", \"Head First Python, Paul Barry\", 3, 32.95],\n",
        "    [\"88112\", \"Einführung in Python3, Bernd Klein\", 3, 24.99]\n",
        "]\n",
        "\n",
        "# Function to calculate the total price and apply the 10€ increase if necessary\n",
        "calculate_total = lambda order: (order[0], order[2] * order[3] + 10 if order[2] * order[3] < 100 else order[2] * order[3])\n",
        "\n",
        "# Using map to apply the function to each order\n",
        "invoice_totals = list(map(calculate_total, orders))\n",
        "\n",
        "# Printing the result\n",
        "print(invoice_totals)"
      ],
      "metadata": {
        "colab": {
          "base_uri": "https://localhost:8080/"
        },
        "id": "tKpzo8mBe30c",
        "outputId": "bcd87e78-fa9e-4325-d5f1-0e7c027ceb25"
      },
      "execution_count": 24,
      "outputs": [
        {
          "output_type": "stream",
          "name": "stdout",
          "text": [
            "[('34587', 163.8), ('98762', 284.0), ('77226', 108.85000000000001), ('88112', 84.97)]\n"
          ]
        }
      ]
    },
    {
      "cell_type": "code",
      "source": [],
      "metadata": {
        "id": "8hZe-FOAfCgx"
      },
      "execution_count": null,
      "outputs": []
    }
  ]
}